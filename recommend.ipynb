{
 "cells": [
  {
   "cell_type": "markdown",
   "metadata": {
    "ein.tags": "worksheet-0",
    "slideshow": {
     "slide_type": "-"
    }
   },
   "source": [
    "# Recommendation Engines\n",
    "\n",
    "(This is for the Applied Data Science Group November/December 2017 session.)\n",
    "\n",
    "This notebook tries to build a recommendation engine (the sort of which e-commerce sites use to recommend other items to you), for board-game data.\n",
    "Matt Borthwick scraped the data from boardgamegeek.com.  This is an initial runthrough to check the quality of the data, and try to play with the distributions.  I'll try to check that the dataset seems sane, check the shape of the distributions."
   ]
  },
  {
   "cell_type": "markdown",
   "metadata": {
    "ein.tags": "worksheet-0",
    "slideshow": {
     "slide_type": "-"
    }
   },
   "source": [
    "## Possible questions:\n",
    "\n",
    "I did a similar brainstorming exercise (without looking at the data) to what we did in the first week:\n",
    "\n",
    "### Exploratory questions\n",
    "\n",
    "1) What is the most popular game?\n",
    "1a) Which has the highest average rating?\n",
    "1b) Which has the most reviews?\n",
    "(Also the antonyms)\n",
    "\n",
    "2a) What is the most divisive game?\n",
    "  (Greatest spread in review scores)\n",
    "\n",
    "3) Data quality: NA, None, NAN\n",
    "   Number of reviews per user?\n",
    "   Number of reviews per game?\n",
    "   Check scale of review scores\n",
    "\n",
    "## Analysis/Modelling questions\n",
    "\n",
    "4) Recommend new games based on similarities with others interests.\n",
    "\n",
    "   Build clustering algorithm based on scores in games.\n",
    "   *Assign each user a vector in Ngame-dim space.\n",
    "   *Find users with similar vectors, based on dot-product.  (K-means or some other clustering)?\n",
    "   *Remove games that are already reviewed, or with negative scores.\n",
    "   *Recommend remaining game with highest score.\n",
    "\n",
    "5) User analysis:\n",
    "   Are there multiple audiences here? \"Hardcore\" vs \"casual\" to use the gamer terms.\n",
    "   How many 1-review users are there? What games do they try out?\n",
    "   What games do users with multiple reviews enjoy? \"Amazon Top 500 reviewers\"\n"
   ]
  },
  {
   "cell_type": "code",
   "execution_count": 1,
   "metadata": {
    "autoscroll": false,
    "ein.tags": "worksheet-0",
    "slideshow": {
     "slide_type": "-"
    }
   },
   "outputs": [],
   "source": [
    "#standard library imports\n",
    "import pandas as pd\n",
    "import numpy as np\n",
    "import matplotlib.pyplot as plt\n",
    "\n",
    "#makes larger plots\n",
    "plt.rcParams['figure.figsize']=(10,6)"
   ]
  },
  {
   "cell_type": "code",
   "execution_count": 2,
   "metadata": {
    "autoscroll": false,
    "ein.tags": "worksheet-0",
    "slideshow": {
     "slide_type": "-"
    }
   },
   "outputs": [],
   "source": [
    "#read in the data.  (13MB or so)\n",
    "#(N.B. I put Matt's header on it's own line, which is skipped, and added the UserID)\n",
    "df=pd.read_csv('data/boardgame-ratings.csv',skiprows=1)"
   ]
  },
  {
   "cell_type": "markdown",
   "metadata": {
    "ein.tags": "worksheet-0",
    "slideshow": {
     "slide_type": "-"
    }
   },
   "source": [
    "## Exploratory Analysis\n",
    "\n",
    "I'm going to do a few things:\n",
    "*check for NaN/missing values.\n",
    "*check the scores look right\n",
    "*check the numbers of reviews, and games.\n",
    "*match up the names with the unique gameIDs (I'll find some missing entries here)\n",
    "*plot the number of reviews/user and reviews/game.\n"
   ]
  },
  {
   "cell_type": "code",
   "execution_count": 3,
   "metadata": {
    "autoscroll": false,
    "ein.tags": "worksheet-0",
    "slideshow": {
     "slide_type": "-"
    }
   },
   "outputs": [
    {
     "name": "stdout",
     "output_type": "stream",
     "text": [
      "Number of NaN 0\n",
      "Max/min scores 1.0 10.0\n"
     ]
    }
   ],
   "source": [
    "#test for NaN\n",
    "nan_array=np.isnan(df.values)\n",
    "print('Number of NaN',np.sum(nan_array))\n",
    "#check scale of review scores.\n",
    "print('Max/min scores',df['rating'].min(),df['rating'].max())"
   ]
  },
  {
   "cell_type": "code",
   "execution_count": 5,
   "metadata": {
    "autoscroll": false,
    "ein.tags": "worksheet-0",
    "slideshow": {
     "slide_type": "-"
    }
   },
   "outputs": [],
   "source": [
    "#How many users, how many games?\n",
    "#Find the unique entries in each list\n",
    "users=df['userID'].unique()\n",
    "games=df['gameID'].unique()"
   ]
  },
  {
   "cell_type": "code",
   "execution_count": 6,
   "metadata": {
    "autoscroll": false,
    "ein.tags": "worksheet-0",
    "slideshow": {
     "slide_type": "-"
    }
   },
   "outputs": [
    {
     "name": "stdout",
     "output_type": "stream",
     "text": [
      "Number of unique users is: 154655\n",
      "Number of unique games is: 27\n",
      "Total number of reviews is: 834415\n"
     ]
    }
   ],
   "source": [
    "print('Number of unique users is:',len(users))\n",
    "print('Number of unique games is:',len(games))\n",
    "print('Total number of reviews is:',len(df))"
   ]
  },
  {
   "cell_type": "code",
   "execution_count": 7,
   "metadata": {
    "autoscroll": false,
    "ein.tags": "worksheet-0",
    "slideshow": {
     "slide_type": "-"
    }
   },
   "outputs": [
    {
     "name": "stdout",
     "output_type": "stream",
     "text": [
      "0 14996 Ticket to Ride: Europe\n",
      "1 68448 7 Wonders\n",
      "2 13 Catan\n",
      "3 31260 Agricola\n",
      "4 178900 Codenames\n",
      "5 9209 Ticket to Ride\n",
      "6 30549 Pandemic\n",
      "7 129622 Love Letter\n",
      "8 36218 Dominion\n",
      "9 3076 Puerto Rico\n",
      "10 2651 Power Grid\n",
      "11 110327 Lords of Waterdeep\n",
      "12 822 Carcassonne\n",
      "13 478 Citadels\n",
      "14 39856 Dixit\n",
      "15 103 Titan\n",
      "16 148228 Splendor\n",
      "17 40692 Small World\n",
      "18 11 Bohnanza\n",
      "19 28143 Race for the Galaxy\n",
      "20 34635 Stone Age\n",
      "21 1927 Munchkin\n",
      "22 15987 Arkham Horror\n",
      "23 70323 King of Tokyo\n",
      "24 33154 NOTAGAME\n",
      "25 2163 Space Hulk\n",
      "26 197376 NOTAGAME2:NOT HARDER\n"
     ]
    }
   ],
   "source": [
    "#make a dict to convert game labels to names (provided by Matt)\n",
    "#  Looks like we are missing the keys for 33154, 197376.  I made up some keys for plotting/naming purposes.\n",
    "name_dict={11:\"Bohnanza\",\n",
    "68448:\"7 Wonders\",\n",
    "39856:\"Dixit\",\n",
    "40692:\"Small World\",\n",
    "31260:\"Agricola\",\n",
    "148228:\"Splendor\",\n",
    "13:\"Catan\",\n",
    "178900:\"Codenames\",\n",
    "34635:\"Stone Age\",\n",
    "28143:\"Race for the Galaxy\",\n",
    "129622:\"Love Letter\",\n",
    "14996:\"Ticket to Ride: Europe\",\n",
    "3076:\"Puerto Rico\",\n",
    "30549:\"Pandemic\",\n",
    "65244:\"Forbidden Island\",\n",
    "478:\"Citadels\",\n",
    "15987:\"Arkham Horror\",\n",
    "110327:\"Lords of Waterdeep\",\n",
    "36218:\"Dominion\",\n",
    "2651:\"Power Grid\",\n",
    "9209:\"Ticket to Ride\",\n",
    "103:\"Titan\",\n",
    "822:\"Carcassonne\",\n",
    "2163:\"Space Hulk\",\n",
    "1927:\"Munchkin\",\n",
    "70323:\"King of Tokyo\",\n",
    "33154:\"NOTAGAME\",\n",
    "197376:\"NOTAGAME2:NOT HARDER\"}\n",
    "\n",
    "#check name dictionary is working.\n",
    "#I put in fake names earlier to find the missings ones\n",
    "i=0\n",
    "for num in games:\n",
    "    print(i,num,name_dict[num])\n",
    "    i+=1\n"
   ]
  },
  {
   "cell_type": "code",
   "execution_count": 8,
   "metadata": {
    "autoscroll": false,
    "ein.tags": "worksheet-0",
    "slideshow": {
     "slide_type": "-"
    }
   },
   "outputs": [
    {
     "name": "stdout",
     "output_type": "stream",
     "text": [
      "3699 91\n"
     ]
    }
   ],
   "source": [
    "#Number of games with missing names\n",
    "msk1=df['gameID']==33154\n",
    "msk2=df['gameID']==197376\n",
    "print(np.sum(msk1),np.sum(msk2))"
   ]
  },
  {
   "cell_type": "markdown",
   "metadata": {
    "ein.tags": "worksheet-0",
    "slideshow": {
     "slide_type": "-"
    }
   },
   "source": [
    "### Number of reviews/user and reviews/game"
   ]
  },
  {
   "cell_type": "code",
   "execution_count": 9,
   "metadata": {
    "autoscroll": false,
    "ein.tags": "worksheet-0",
    "slideshow": {
     "slide_type": "-"
    }
   },
   "outputs": [
    {
     "name": "stdout",
     "output_type": "stream",
     "text": [
      "5.395331544405289\n"
     ]
    }
   ],
   "source": [
    "avg_num_reviews=len(df)/len(users)\n",
    "print(avg_num_reviews)"
   ]
  },
  {
   "cell_type": "code",
   "execution_count": null,
   "metadata": {
    "autoscroll": false,
    "ein.tags": "worksheet-0",
    "slideshow": {
     "slide_type": "-"
    }
   },
   "outputs": [],
   "source": [
    "So on average, each user reviews 5 games.  Let's try to build a histogram of users with a given number of reviews.  (and then the same with games)"
   ]
  },
  {
   "cell_type": "code",
   "execution_count": 10,
   "metadata": {
    "autoscroll": false,
    "ein.tags": "worksheet-0",
    "slideshow": {
     "slide_type": "-"
    }
   },
   "outputs": [],
   "source": [
    "#others mentioned issues with looping. let's also try a straightforward approach.\n",
    "#took a minute or two - untenable for only 1000 users!\n",
    "\n",
    "#df_user=pd.DataFrame(columns=['Ngames'],index=users)\n",
    "#On reflection, reshaping would be super helpful on this data set.  Use 27 columns with one for each game, with a column for each score.      \n",
    "# for user in users[0:4]:\n",
    "#     print(user)\n",
    "#     print('Ngames=',np.sum(df['userID']==user))\n",
    "\n",
    "#this took a few seconds.\n",
    "user_review_counts=df.groupby(['userID']).count()\n",
    "#note that there really are users with ids going from 1 to 1000, its not a screwup.\n"
   ]
  },
  {
   "cell_type": "code",
   "execution_count": 11,
   "metadata": {
    "autoscroll": false,
    "ein.tags": "worksheet-0",
    "slideshow": {
     "slide_type": "-"
    }
   },
   "outputs": [
    {
     "data": {
      "image/png": "[encoded data removed]",
      "text/plain": [
       "<matplotlib.figure.Figure at 0x7efbc5ff2978>"
      ]
     },
     "metadata": {},
     "output_type": "display_data"
    }
   ],
   "source": [
    "#plt.figure(figsize=(12,9))\n",
    "plt.figure()\n",
    "plt.hist(user_review_counts.iloc[:,0].values,bins=np.arange(1,27))\n",
    "plt.xlabel('Number of Reviews')\n",
    "plt.ylabel('Number of Users')\n",
    "plt.title('Reviewer distribution: Number of reviews per user')\n",
    "plt.show()"
   ]
  },
  {
   "cell_type": "code",
   "execution_count": 12,
   "metadata": {
    "autoscroll": false,
    "ein.tags": "worksheet-0",
    "slideshow": {
     "slide_type": "-"
    }
   },
   "outputs": [],
   "source": [
    "#find the counts of reviews for each game.\n",
    "game_review_counts=df.groupby(['gameID']).count()\n",
    "#make a list matching up gameIDs and names.  Use that list as a new index\n",
    "new_index=[]\n",
    "for ind in game_review_counts.index:\n",
    "    new_index.append(name_dict[ind])\n",
    "\n",
    "game_review_counts.index=new_index"
   ]
  },
  {
   "cell_type": "code",
   "execution_count": 13,
   "metadata": {
    "autoscroll": false,
    "ein.tags": "worksheet-0",
    "slideshow": {
     "slide_type": "-"
    }
   },
   "outputs": [
    {
     "data": {
      "image/png": "[encoded data removed]",
      "text/plain": [
       "<matplotlib.figure.Figure at 0x7efbc3fe3f60>"
      ]
     },
     "metadata": {},
     "output_type": "display_data"
    }
   ],
   "source": [
    "plt.figure()\n",
    "game_review_counts.iloc[:,1].plot('bar')\n",
    "plt.ylabel('Number of reviews')\n",
    "plt.title('Number of reviews per game')\n",
    "plt.show()"
   ]
  },
  {
   "cell_type": "markdown",
   "metadata": {
    "ein.tags": "worksheet-0",
    "slideshow": {
     "slide_type": "-"
    }
   },
   "source": [
    "So, only a few games with less than 10000 reviews.  What I've called \"NOTAGAME\", ID=197376, only has 91 reviews, far fewever than everything else.\n",
    "From the point of view of the exercise, it's probably worth keeping that game, to let people consider the value in keeping that data point.\n",
    "Otherwise, looks fairly balanced, with a few cult classics, or new games in there."
   ]
  },
  {
   "cell_type": "markdown",
   "metadata": {
    "ein.tags": "worksheet-0",
    "slideshow": {
     "slide_type": "-"
    }
   },
   "source": [
    "Lets also try to look at the distributions of scores.  I'll try to make a box-plot.\n",
    "That will let me check the distributions in an easy manner.\n",
    "I'll pivot the data frame to make rows users, columns be games, with the entries given by the score. \n",
    "\n",
    "## Next steps - transforming the data\n",
    "\n",
    "Rearranging the data to use the gameIDs as columns would make sense for recommendation.\n",
    "For this data set, with 27 dim that's should be no problem. (Another question on what is best to do with thousands of entries).\n",
    "This would also make it easier to look at histograms on a per-game basis.\n",
    "I'm nigh certain pandas has a reshape function to do exactly this.  Pivot maybe?\n",
    "(http://pandas.pydata.org/pandas-docs/stable/reshaping.html)"
   ]
  },
  {
   "cell_type": "code",
   "execution_count": 14,
   "metadata": {
    "autoscroll": false,
    "ein.tags": "worksheet-0",
    "slideshow": {
     "slide_type": "-"
    }
   },
   "outputs": [
    {
     "data": {
      "text/html": [
       "<div>\n",
       "<style>\n",
       "    .dataframe thead tr:only-child th {\n",
       "        text-align: right;\n",
       "    }\n",
       "\n",
       "    .dataframe thead th {\n",
       "        text-align: left;\n",
       "    }\n",
       "\n",
       "    .dataframe tbody tr th {\n",
       "        vertical-align: top;\n",
       "    }\n",
       "</style>\n",
       "<table border=\"1\" class=\"dataframe\">\n",
       "  <thead>\n",
       "    <tr style=\"text-align: right;\">\n",
       "      <th>gameID</th>\n",
       "      <th>Bohnanza</th>\n",
       "      <th>Catan</th>\n",
       "      <th>Titan</th>\n",
       "      <th>Citadels</th>\n",
       "      <th>Carcassonne</th>\n",
       "      <th>Munchkin</th>\n",
       "      <th>Space Hulk</th>\n",
       "      <th>Power Grid</th>\n",
       "      <th>Puerto Rico</th>\n",
       "      <th>Ticket to Ride</th>\n",
       "      <th>...</th>\n",
       "      <th>Dominion</th>\n",
       "      <th>Dixit</th>\n",
       "      <th>Small World</th>\n",
       "      <th>7 Wonders</th>\n",
       "      <th>King of Tokyo</th>\n",
       "      <th>Lords of Waterdeep</th>\n",
       "      <th>Love Letter</th>\n",
       "      <th>Splendor</th>\n",
       "      <th>Codenames</th>\n",
       "      <th>NOTAGAME2:NOT HARDER</th>\n",
       "    </tr>\n",
       "    <tr>\n",
       "      <th>userID</th>\n",
       "      <th></th>\n",
       "      <th></th>\n",
       "      <th></th>\n",
       "      <th></th>\n",
       "      <th></th>\n",
       "      <th></th>\n",
       "      <th></th>\n",
       "      <th></th>\n",
       "      <th></th>\n",
       "      <th></th>\n",
       "      <th></th>\n",
       "      <th></th>\n",
       "      <th></th>\n",
       "      <th></th>\n",
       "      <th></th>\n",
       "      <th></th>\n",
       "      <th></th>\n",
       "      <th></th>\n",
       "      <th></th>\n",
       "      <th></th>\n",
       "      <th></th>\n",
       "    </tr>\n",
       "  </thead>\n",
       "  <tbody>\n",
       "    <tr>\n",
       "      <th>1</th>\n",
       "      <td>NaN</td>\n",
       "      <td>9.0</td>\n",
       "      <td>NaN</td>\n",
       "      <td>NaN</td>\n",
       "      <td>NaN</td>\n",
       "      <td>NaN</td>\n",
       "      <td>NaN</td>\n",
       "      <td>NaN</td>\n",
       "      <td>8.0</td>\n",
       "      <td>NaN</td>\n",
       "      <td>...</td>\n",
       "      <td>7.0</td>\n",
       "      <td>NaN</td>\n",
       "      <td>8.5</td>\n",
       "      <td>6.0</td>\n",
       "      <td>NaN</td>\n",
       "      <td>NaN</td>\n",
       "      <td>7.0</td>\n",
       "      <td>7.0</td>\n",
       "      <td>NaN</td>\n",
       "      <td>NaN</td>\n",
       "    </tr>\n",
       "    <tr>\n",
       "      <th>2</th>\n",
       "      <td>7.0</td>\n",
       "      <td>7.0</td>\n",
       "      <td>NaN</td>\n",
       "      <td>NaN</td>\n",
       "      <td>NaN</td>\n",
       "      <td>NaN</td>\n",
       "      <td>NaN</td>\n",
       "      <td>7.6</td>\n",
       "      <td>NaN</td>\n",
       "      <td>NaN</td>\n",
       "      <td>...</td>\n",
       "      <td>NaN</td>\n",
       "      <td>NaN</td>\n",
       "      <td>7.0</td>\n",
       "      <td>7.5</td>\n",
       "      <td>7.0</td>\n",
       "      <td>9.0</td>\n",
       "      <td>NaN</td>\n",
       "      <td>8.0</td>\n",
       "      <td>8.0</td>\n",
       "      <td>NaN</td>\n",
       "    </tr>\n",
       "    <tr>\n",
       "      <th>3</th>\n",
       "      <td>NaN</td>\n",
       "      <td>NaN</td>\n",
       "      <td>NaN</td>\n",
       "      <td>NaN</td>\n",
       "      <td>NaN</td>\n",
       "      <td>NaN</td>\n",
       "      <td>NaN</td>\n",
       "      <td>NaN</td>\n",
       "      <td>NaN</td>\n",
       "      <td>NaN</td>\n",
       "      <td>...</td>\n",
       "      <td>NaN</td>\n",
       "      <td>NaN</td>\n",
       "      <td>NaN</td>\n",
       "      <td>NaN</td>\n",
       "      <td>NaN</td>\n",
       "      <td>NaN</td>\n",
       "      <td>NaN</td>\n",
       "      <td>NaN</td>\n",
       "      <td>NaN</td>\n",
       "      <td>NaN</td>\n",
       "    </tr>\n",
       "    <tr>\n",
       "      <th>4</th>\n",
       "      <td>NaN</td>\n",
       "      <td>NaN</td>\n",
       "      <td>10.0</td>\n",
       "      <td>NaN</td>\n",
       "      <td>NaN</td>\n",
       "      <td>NaN</td>\n",
       "      <td>NaN</td>\n",
       "      <td>NaN</td>\n",
       "      <td>NaN</td>\n",
       "      <td>NaN</td>\n",
       "      <td>...</td>\n",
       "      <td>NaN</td>\n",
       "      <td>NaN</td>\n",
       "      <td>NaN</td>\n",
       "      <td>NaN</td>\n",
       "      <td>NaN</td>\n",
       "      <td>NaN</td>\n",
       "      <td>NaN</td>\n",
       "      <td>NaN</td>\n",
       "      <td>NaN</td>\n",
       "      <td>NaN</td>\n",
       "    </tr>\n",
       "    <tr>\n",
       "      <th>5</th>\n",
       "      <td>NaN</td>\n",
       "      <td>8.0</td>\n",
       "      <td>NaN</td>\n",
       "      <td>NaN</td>\n",
       "      <td>NaN</td>\n",
       "      <td>NaN</td>\n",
       "      <td>NaN</td>\n",
       "      <td>NaN</td>\n",
       "      <td>NaN</td>\n",
       "      <td>NaN</td>\n",
       "      <td>...</td>\n",
       "      <td>9.0</td>\n",
       "      <td>NaN</td>\n",
       "      <td>NaN</td>\n",
       "      <td>NaN</td>\n",
       "      <td>NaN</td>\n",
       "      <td>NaN</td>\n",
       "      <td>NaN</td>\n",
       "      <td>NaN</td>\n",
       "      <td>NaN</td>\n",
       "      <td>NaN</td>\n",
       "    </tr>\n",
       "  </tbody>\n",
       "</table>\n",
       "<p>5 rows × 27 columns</p>\n",
       "</div>"
      ],
      "text/plain": [
       "gameID  Bohnanza  Catan  Titan  Citadels  Carcassonne  Munchkin  Space Hulk  \\\n",
       "userID                                                                        \n",
       "1            NaN    9.0    NaN       NaN          NaN       NaN         NaN   \n",
       "2            7.0    7.0    NaN       NaN          NaN       NaN         NaN   \n",
       "3            NaN    NaN    NaN       NaN          NaN       NaN         NaN   \n",
       "4            NaN    NaN   10.0       NaN          NaN       NaN         NaN   \n",
       "5            NaN    8.0    NaN       NaN          NaN       NaN         NaN   \n",
       "\n",
       "gameID  Power Grid  Puerto Rico  Ticket to Ride          ...           \\\n",
       "userID                                                   ...            \n",
       "1              NaN          8.0             NaN          ...            \n",
       "2              7.6          NaN             NaN          ...            \n",
       "3              NaN          NaN             NaN          ...            \n",
       "4              NaN          NaN             NaN          ...            \n",
       "5              NaN          NaN             NaN          ...            \n",
       "\n",
       "gameID  Dominion  Dixit  Small World  7 Wonders  King of Tokyo  \\\n",
       "userID                                                           \n",
       "1            7.0    NaN          8.5        6.0            NaN   \n",
       "2            NaN    NaN          7.0        7.5            7.0   \n",
       "3            NaN    NaN          NaN        NaN            NaN   \n",
       "4            NaN    NaN          NaN        NaN            NaN   \n",
       "5            9.0    NaN          NaN        NaN            NaN   \n",
       "\n",
       "gameID  Lords of Waterdeep  Love Letter  Splendor  Codenames  \\\n",
       "userID                                                         \n",
       "1                      NaN          7.0       7.0        NaN   \n",
       "2                      9.0          NaN       8.0        8.0   \n",
       "3                      NaN          NaN       NaN        NaN   \n",
       "4                      NaN          NaN       NaN        NaN   \n",
       "5                      NaN          NaN       NaN        NaN   \n",
       "\n",
       "gameID  NOTAGAME2:NOT HARDER  \n",
       "userID                        \n",
       "1                        NaN  \n",
       "2                        NaN  \n",
       "3                        NaN  \n",
       "4                        NaN  \n",
       "5                        NaN  \n",
       "\n",
       "[5 rows x 27 columns]"
      ]
     },
     "execution_count": 14,
     "metadata": {},
     "output_type": "execute_result"
    }
   ],
   "source": [
    "#make a small dataframe for debugging purposes\n",
    "#df_small=df.iloc[0:1000]\n",
    "df_pivot=df.pivot(index='userID',columns='gameID',values='rating')\n",
    "df_pivot=df_pivot.rename(columns=name_dict)\n",
    "df_pivot.head()"
   ]
  },
  {
   "cell_type": "code",
   "execution_count": 53,
   "metadata": {
    "autoscroll": false,
    "ein.tags": "worksheet-0",
    "slideshow": {
     "slide_type": "-"
    }
   },
   "outputs": [],
   "source": [
    "?df.boxplot"
   ]
  },
  {
   "cell_type": "code",
   "execution_count": 15,
   "metadata": {
    "autoscroll": false,
    "ein.tags": "worksheet-0",
    "slideshow": {
     "slide_type": "-"
    }
   },
   "outputs": [
    {
     "data": {
      "image/png": "[encoded data removed]",
      "text/plain": [
       "<matplotlib.figure.Figure at 0x7efbc38d3828>"
      ]
     },
     "metadata": {},
     "output_type": "display_data"
    }
   ],
   "source": [
    "plt.figure(figsize=(15,10))\n",
    "game_review_counts=df_pivot.boxplot(rot=90,grid=False)\n",
    "plt.show()"
   ]
  },
  {
   "cell_type": "markdown",
   "metadata": {
    "ein.tags": "worksheet-0",
    "slideshow": {
     "slide_type": "-"
    }
   },
   "source": [
    "(I'll imitate a plot I saw the more experienced folk do at the first finance-data meetup)\n",
    "Try a correlation map based on columns to see how close the score distributions are.\n",
    "I think this intuitively corresponds to: How much are the score distributions in one game similar to another?\n",
    "Running across the rows would yield something analogous for users (but would take an age, since that is a 1E5 x 1E5 matrix).\n"
   ]
  },
  {
   "cell_type": "code",
   "execution_count": 17,
   "metadata": {
    "autoscroll": false,
    "ein.tags": "worksheet-0",
    "slideshow": {
     "slide_type": "-"
    }
   },
   "outputs": [
    {
     "data": {
      "image/png": "[encoded data removed]",
      "text/plain": [
       "<matplotlib.figure.Figure at 0x7efbbdefc780>"
      ]
     },
     "metadata": {},
     "output_type": "display_data"
    }
   ],
   "source": [
    "c=df_pivot.corr()\n",
    "\n",
    "plt.figure()\n",
    "plt.imshow(c)\n",
    "plt.show()"
   ]
  },
  {
   "cell_type": "code",
   "execution_count": 18,
   "metadata": {
    "autoscroll": false,
    "ein.tags": "worksheet-0",
    "slideshow": {
     "slide_type": "-"
    }
   },
   "outputs": [
    {
     "name": "stdout",
     "output_type": "stream",
     "text": [
      "gameID                  Bohnanza     Catan     Titan  Citadels  Carcassonne  \\\n",
      "gameID                                                                        \n",
      "Bohnanza                1.000000  0.275602  0.147732  0.263456     0.279118   \n",
      "Catan                   0.275602  1.000000  0.190735  0.313599     0.331462   \n",
      "Titan                   0.147732  0.190735  1.000000  0.190885     0.132252   \n",
      "Citadels                0.263456  0.313599  0.190885  1.000000     0.288211   \n",
      "Carcassonne             0.279118  0.331462  0.132252  0.288211     1.000000   \n",
      "Munchkin                0.222787  0.342792  0.252330  0.332790     0.290828   \n",
      "Space Hulk              0.118314  0.093264  0.174868  0.180398     0.127795   \n",
      "Power Grid              0.199727  0.211489  0.184370  0.208685     0.216945   \n",
      "Puerto Rico             0.199268  0.269999  0.128380  0.234754     0.220236   \n",
      "Ticket to Ride          0.295869  0.354393  0.128326  0.265353     0.392478   \n",
      "Ticket to Ride: Europe  0.295632  0.334663  0.121828  0.303003     0.390734   \n",
      "Arkham Horror           0.149056  0.210956  0.259583  0.254942     0.190605   \n",
      "Race for the Galaxy     0.141841  0.127195  0.159039  0.158313     0.161532   \n",
      "Pandemic                0.250122  0.258581  0.112781  0.248810     0.278933   \n",
      "Agricola                0.170636  0.208463  0.118684  0.162270     0.213954   \n",
      "NOTAGAME                0.274806  0.229907  0.221726  0.326048     0.317847   \n",
      "Stone Age               0.250970  0.311261  0.131765  0.297184     0.325649   \n",
      "Dominion                0.214773  0.286539  0.183733  0.256717     0.272777   \n",
      "Dixit                   0.202356  0.220459  0.091126  0.256974     0.263202   \n",
      "Small World             0.220120  0.265375  0.162288  0.313275     0.273893   \n",
      "7 Wonders               0.213165  0.260339  0.111574  0.288087     0.279186   \n",
      "King of Tokyo           0.215788  0.259714  0.135834  0.286308     0.248748   \n",
      "Lords of Waterdeep      0.194142  0.271995  0.140624  0.307778     0.279117   \n",
      "Love Letter             0.225668  0.218928  0.146250  0.292481     0.249733   \n",
      "Splendor                0.240912  0.270555  0.171356  0.251796     0.264006   \n",
      "Codenames               0.181038  0.148861  0.033825  0.160384     0.186567   \n",
      "NOTAGAME2:NOT HARDER   -0.268227 -0.066724 -0.044922  0.186986     0.185895   \n",
      "\n",
      "gameID                  Munchkin  Space Hulk  Power Grid  Puerto Rico  \\\n",
      "gameID                                                                  \n",
      "Bohnanza                0.222787    0.118314    0.199727     0.199268   \n",
      "Catan                   0.342792    0.093264    0.211489     0.269999   \n",
      "Titan                   0.252330    0.174868    0.184370     0.128380   \n",
      "Citadels                0.332790    0.180398    0.208685     0.234754   \n",
      "Carcassonne             0.290828    0.127795    0.216945     0.220236   \n",
      "Munchkin                1.000000    0.220557    0.156627     0.151172   \n",
      "Space Hulk              0.220557    1.000000    0.049380     0.020813   \n",
      "Power Grid              0.156627    0.049380    1.000000     0.335493   \n",
      "Puerto Rico             0.151172    0.020813    0.335493     1.000000   \n",
      "Ticket to Ride          0.305932    0.148821    0.254569     0.208447   \n",
      "Ticket to Ride: Europe  0.300229    0.198099    0.289050     0.232120   \n",
      "Arkham Horror           0.370513    0.263006    0.134980     0.109844   \n",
      "Race for the Galaxy     0.104392    0.017573    0.205214     0.239747   \n",
      "Pandemic                0.267694    0.159355    0.245112     0.189751   \n",
      "Agricola                0.151331    0.088311    0.266741     0.374744   \n",
      "NOTAGAME                0.387817    0.046544    0.231932     0.193946   \n",
      "Stone Age               0.270555    0.123206    0.275397     0.298289   \n",
      "Dominion                0.212025    0.134041    0.245656     0.262003   \n",
      "Dixit                   0.208435    0.157622    0.143738     0.142899   \n",
      "Small World             0.314001    0.152260    0.221748     0.197349   \n",
      "7 Wonders               0.220454    0.154204    0.235383     0.255922   \n",
      "King of Tokyo           0.332872    0.281914    0.152596     0.113678   \n",
      "Lords of Waterdeep      0.323831    0.238925    0.213910     0.201992   \n",
      "Love Letter             0.248592    0.194419    0.162132     0.139573   \n",
      "Splendor                0.228206    0.161617    0.243407     0.212315   \n",
      "Codenames               0.109892    0.122842    0.137578     0.123168   \n",
      "NOTAGAME2:NOT HARDER   -0.228390   -0.960103    0.233005    -0.038413   \n",
      "\n",
      "gameID                  Ticket to Ride          ...           Dominion  \\\n",
      "gameID                                          ...                      \n",
      "Bohnanza                      0.295869          ...           0.214773   \n",
      "Catan                         0.354393          ...           0.286539   \n",
      "Titan                         0.128326          ...           0.183733   \n",
      "Citadels                      0.265353          ...           0.256717   \n",
      "Carcassonne                   0.392478          ...           0.272777   \n",
      "Munchkin                      0.305932          ...           0.212025   \n",
      "Space Hulk                    0.148821          ...           0.134041   \n",
      "Power Grid                    0.254569          ...           0.245656   \n",
      "Puerto Rico                   0.208447          ...           0.262003   \n",
      "Ticket to Ride                1.000000          ...           0.286519   \n",
      "Ticket to Ride: Europe        0.710388          ...           0.277351   \n",
      "Arkham Horror                 0.171915          ...           0.174534   \n",
      "Race for the Galaxy           0.145727          ...           0.281602   \n",
      "Pandemic                      0.353144          ...           0.261922   \n",
      "Agricola                      0.178631          ...           0.240324   \n",
      "NOTAGAME                      0.340038          ...           0.258128   \n",
      "Stone Age                     0.359478          ...           0.299807   \n",
      "Dominion                      0.286519          ...           1.000000   \n",
      "Dixit                         0.261372          ...           0.182586   \n",
      "Small World                   0.292118          ...           0.250931   \n",
      "7 Wonders                     0.317085          ...           0.342813   \n",
      "King of Tokyo                 0.335927          ...           0.219974   \n",
      "Lords of Waterdeep            0.351500          ...           0.269764   \n",
      "Love Letter                   0.267730          ...           0.213485   \n",
      "Splendor                      0.350399          ...           0.277682   \n",
      "Codenames                     0.202624          ...           0.192000   \n",
      "NOTAGAME2:NOT HARDER          0.198859          ...           0.153928   \n",
      "\n",
      "gameID                     Dixit  Small World  7 Wonders  King of Tokyo  \\\n",
      "gameID                                                                    \n",
      "Bohnanza                0.202356     0.220120   0.213165       0.215788   \n",
      "Catan                   0.220459     0.265375   0.260339       0.259714   \n",
      "Titan                   0.091126     0.162288   0.111574       0.135834   \n",
      "Citadels                0.256974     0.313275   0.288087       0.286308   \n",
      "Carcassonne             0.263202     0.273893   0.279186       0.248748   \n",
      "Munchkin                0.208435     0.314001   0.220454       0.332872   \n",
      "Space Hulk              0.157622     0.152260   0.154204       0.281914   \n",
      "Power Grid              0.143738     0.221748   0.235383       0.152596   \n",
      "Puerto Rico             0.142899     0.197349   0.255922       0.113678   \n",
      "Ticket to Ride          0.261372     0.292118   0.317085       0.335927   \n",
      "Ticket to Ride: Europe  0.255786     0.303502   0.348100       0.328214   \n",
      "Arkham Horror           0.184260     0.263592   0.202959       0.284722   \n",
      "Race for the Galaxy     0.175086     0.174205   0.270231       0.146227   \n",
      "Pandemic                0.230494     0.285829   0.287248       0.322965   \n",
      "Agricola                0.153513     0.163515   0.235577       0.104274   \n",
      "NOTAGAME                0.233402     0.318016   0.337119       0.354047   \n",
      "Stone Age               0.208365     0.307475   0.368816       0.290681   \n",
      "Dominion                0.182586     0.250931   0.342813       0.219974   \n",
      "Dixit                   1.000000     0.255345   0.225508       0.288532   \n",
      "Small World             0.255345     1.000000   0.303686       0.334336   \n",
      "7 Wonders               0.225508     0.303686   1.000000       0.278516   \n",
      "King of Tokyo           0.288532     0.334336   0.278516       1.000000   \n",
      "Lords of Waterdeep      0.202384     0.332189   0.375136       0.334339   \n",
      "Love Letter             0.285685     0.244392   0.254944       0.333588   \n",
      "Splendor                0.242412     0.250203   0.328862       0.282044   \n",
      "Codenames               0.283261     0.163499   0.200506       0.212132   \n",
      "NOTAGAME2:NOT HARDER    0.260907     0.153879   0.220808       0.543353   \n",
      "\n",
      "gameID                  Lords of Waterdeep  Love Letter  Splendor  Codenames  \\\n",
      "gameID                                                                         \n",
      "Bohnanza                          0.194142     0.225668  0.240912   0.181038   \n",
      "Catan                             0.271995     0.218928  0.270555   0.148861   \n",
      "Titan                             0.140624     0.146250  0.171356   0.033825   \n",
      "Citadels                          0.307778     0.292481  0.251796   0.160384   \n",
      "Carcassonne                       0.279117     0.249733  0.264006   0.186567   \n",
      "Munchkin                          0.323831     0.248592  0.228206   0.109892   \n",
      "Space Hulk                        0.238925     0.194419  0.161617   0.122842   \n",
      "Power Grid                        0.213910     0.162132  0.243407   0.137578   \n",
      "Puerto Rico                       0.201992     0.139573  0.212315   0.123168   \n",
      "Ticket to Ride                    0.351500     0.267730  0.350399   0.202624   \n",
      "Ticket to Ride: Europe            0.352609     0.293388  0.376017   0.228867   \n",
      "Arkham Horror                     0.284527     0.208784  0.151427   0.071506   \n",
      "Race for the Galaxy               0.170302     0.169304  0.177535   0.164248   \n",
      "Pandemic                          0.311828     0.266441  0.277764   0.198476   \n",
      "Agricola                          0.167661     0.108205  0.169906   0.175691   \n",
      "NOTAGAME                          0.304430     0.271386  0.300581   0.093992   \n",
      "Stone Age                         0.387329     0.243737  0.365095   0.174799   \n",
      "Dominion                          0.269764     0.213485  0.277682   0.192000   \n",
      "Dixit                             0.202384     0.285685  0.242412   0.283261   \n",
      "Small World                       0.332189     0.244392  0.250203   0.163499   \n",
      "7 Wonders                         0.375136     0.254944  0.328862   0.200506   \n",
      "King of Tokyo                     0.334339     0.333588  0.282044   0.212132   \n",
      "Lords of Waterdeep                1.000000     0.263073  0.366644   0.155150   \n",
      "Love Letter                       0.263073     1.000000  0.292462   0.238006   \n",
      "Splendor                          0.366644     0.292462  1.000000   0.247813   \n",
      "Codenames                         0.155150     0.238006  0.247813   1.000000   \n",
      "NOTAGAME2:NOT HARDER              0.703146     0.121328  0.071349   0.480921   \n",
      "\n",
      "gameID                  NOTAGAME2:NOT HARDER  \n",
      "gameID                                        \n",
      "Bohnanza                           -0.268227  \n",
      "Catan                              -0.066724  \n",
      "Titan                              -0.044922  \n",
      "Citadels                            0.186986  \n",
      "Carcassonne                         0.185895  \n",
      "Munchkin                           -0.228390  \n",
      "Space Hulk                         -0.960103  \n",
      "Power Grid                          0.233005  \n",
      "Puerto Rico                        -0.038413  \n",
      "Ticket to Ride                      0.198859  \n",
      "Ticket to Ride: Europe              0.331780  \n",
      "Arkham Horror                      -0.030325  \n",
      "Race for the Galaxy                 0.357394  \n",
      "Pandemic                            0.349124  \n",
      "Agricola                           -0.364736  \n",
      "NOTAGAME                           -0.023461  \n",
      "Stone Age                           0.285867  \n",
      "Dominion                            0.153928  \n",
      "Dixit                               0.260907  \n",
      "Small World                         0.153879  \n",
      "7 Wonders                           0.220808  \n",
      "King of Tokyo                       0.543353  \n",
      "Lords of Waterdeep                  0.703146  \n",
      "Love Letter                         0.121328  \n",
      "Splendor                            0.071349  \n",
      "Codenames                           0.480921  \n",
      "NOTAGAME2:NOT HARDER                1.000000  \n",
      "\n",
      "[27 rows x 27 columns]\n"
     ]
    }
   ],
   "source": [
    "#Barfs out a huge matrix of the actual numbers\n",
    "print(c)"
   ]
  },
  {
   "cell_type": "markdown",
   "metadata": {
    "ein.tags": "worksheet-0",
    "slideshow": {
     "slide_type": "-"
    }
   },
   "source": [
    "So what does that tell us?  Very Little?  The one game with an obvious signal (and negative correlations), is the one with 91 reviews.\n",
    "The games with high correlations are \"Ticket to ride\" and \"Ticket to ride: Europe\".  Otherwise, everything is hovering around a correlation of 0.2\n",
    "\n",
    "As for building a dataset for recommendations engines, the low correlation might be good?  A high correlation implies that everyone likes the same games, in which case there is no space for a skillful recommendation.\n",
    "\n",
    "The low correlation might also be an artifact of lots of reviewers with only a single review. Those entries will have little correlation with anyone else, and may artificially lower the scores?  "
   ]
  },
  {
   "cell_type": "markdown",
   "metadata": {
    "ein.tags": "worksheet-0",
    "slideshow": {
     "slide_type": "-"
    }
   },
   "source": [
    "## Conclusions regarding state of data\n",
    "\n",
    "The data does suggest some interesting questions on its own on the population of boardgamers.  There is also a matter of having some data cleaning/munging to do on the full data set.\n",
    "\n",
    "The only thing that I really think needs fixing are the missing names for: 33154, 197376.\n",
    "\n",
    "There are no obvious big red flags in terms of missing data, or wacky scales, or weird distributions.\n",
    "The number of reviews per user is skewed towards new folks (not unreasonable, given how few people can stick at something as time intensive as playing and reviewing board games).\n",
    "\n",
    "As always, looping is slow as a turned-over-turtle, and the arcane, built-in functions are super fast.\n",
    "In this case \"groupby\" is the Pandas variant of the split-apply-combine paradigm I've seen used in R.\n",
    "\n",
    "I think for analysis, it would be beneficial to reshape the dataframe/array, but that is probably best left to the participants, as is removing any data with few reviews.\n",
    "Looking at the box-plots, the scores seem fairly high, which tallies with what Matt said about picking popular games.  There doesn't seem anything obviously wrong with the distributions (all zero, or all 10s).\n",
    "\n"
   ]
  }
 ],
 "metadata": {
  "kernelspec": {
   "display_name": "Python 3",
   "language": "python",
   "name": "python3"
  },
  "language_info": {
   "codemirror_mode": {
    "name": "ipython",
    "version": 3
   },
   "file_extension": ".py",
   "mimetype": "text/x-python",
   "name": "python",
   "nbconvert_exporter": "python",
   "pygments_lexer": "ipython3",
   "version": "3.6.3"
  },
  "name": "recommend.ipynb"
 },
 "nbformat": 4,
 "nbformat_minor": 2
}
